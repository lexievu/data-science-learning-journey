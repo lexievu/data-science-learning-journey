{
 "cells": [
  {
   "cell_type": "markdown",
   "metadata": {},
   "source": [
    "# 1. Introduction to Numpy \n",
    "Focus on NumPy arrays (ndarray), array creation, and basic attributes."
   ]
  },
  {
   "cell_type": "code",
   "execution_count": 1,
   "metadata": {},
   "outputs": [],
   "source": [
    "import numpy as np"
   ]
  },
  {
   "cell_type": "code",
   "execution_count": 2,
   "metadata": {},
   "outputs": [
    {
     "name": "stdout",
     "output_type": "stream",
     "text": [
      "Range: [0 1 2 3 4 5 6 7 8 9]\n",
      "Random one-dimensional: [7 2 7 5 2]\n",
      "Random two-dimensional:\n",
      " [[8 0]\n",
      " [6 2]\n",
      " [6 4]\n",
      " [7 8]\n",
      " [7 1]]\n",
      "Random three-dimensional:\n",
      " [[[6 1 5]\n",
      "  [4 8 2]]\n",
      "\n",
      " [[9 2 6]\n",
      "  [5 0 6]]\n",
      "\n",
      " [[9 8 4]\n",
      "  [9 6 1]]\n",
      "\n",
      " [[4 5 2]\n",
      "  [6 9 0]]\n",
      "\n",
      " [[1 0 0]\n",
      "  [1 2 5]]]\n"
     ]
    }
   ],
   "source": [
    "# Creating numpy arrays\n",
    "\n",
    "# From list \n",
    "x = np.array([1, 2, 3])\n",
    "assert(x.ndim == 1)\n",
    "assert(x.shape == (3,))\n",
    "assert(x.size == 3)\n",
    "assert(x.dtype == np.int64)\n",
    "assert(x.itemsize == 8)\n",
    "assert(x.nbytes == 24)\n",
    "\n",
    "# Creating a range \n",
    "x = np.arange(10)\n",
    "print(\"Range:\", x)\n",
    "\n",
    "# Creating a random list\n",
    "one_dim = np.random.randint(0, 10, size=5)\n",
    "print(\"Random one-dimensional:\", one_dim)\n",
    "\n",
    "two_dim = np.random.randint(0, 10, size=(5,2))\n",
    "print(\"Random two-dimensional:\\n\", two_dim)\n",
    "\n",
    "three_dim = np.random.randint(0, 10, size=(5,2,3))\n",
    "print(\"Random three-dimensional:\\n\", three_dim)"
   ]
  },
  {
   "cell_type": "markdown",
   "metadata": {},
   "source": [
    "## Assessing single element"
   ]
  },
  {
   "cell_type": "code",
   "execution_count": 3,
   "metadata": {},
   "outputs": [
    {
     "name": "stdout",
     "output_type": "stream",
     "text": [
      "[7 2 7 5 2]\n"
     ]
    },
    {
     "ename": "AssertionError",
     "evalue": "",
     "output_type": "error",
     "traceback": [
      "\u001b[0;31m---------------------------------------------------------------------------\u001b[0m",
      "\u001b[0;31mAssertionError\u001b[0m                            Traceback (most recent call last)",
      "\u001b[0;32m/var/folders/3f/xk17ccgx4cs52vytx7sf_j9c0000gn/T/ipykernel_53693/2126912581.py\u001b[0m in \u001b[0;36m<module>\u001b[0;34m\u001b[0m\n\u001b[1;32m      1\u001b[0m \u001b[0mprint\u001b[0m\u001b[0;34m(\u001b[0m\u001b[0mone_dim\u001b[0m\u001b[0;34m)\u001b[0m\u001b[0;34m\u001b[0m\u001b[0;34m\u001b[0m\u001b[0m\n\u001b[1;32m      2\u001b[0m \u001b[0;31m# Assessing single element\u001b[0m\u001b[0;34m\u001b[0m\u001b[0;34m\u001b[0m\u001b[0m\n\u001b[0;32m----> 3\u001b[0;31m \u001b[0;32massert\u001b[0m\u001b[0;34m(\u001b[0m\u001b[0mone_dim\u001b[0m\u001b[0;34m[\u001b[0m\u001b[0;36m0\u001b[0m\u001b[0;34m]\u001b[0m \u001b[0;34m==\u001b[0m \u001b[0;36m3\u001b[0m\u001b[0;34m)\u001b[0m\u001b[0;34m\u001b[0m\u001b[0;34m\u001b[0m\u001b[0m\n\u001b[0m\u001b[1;32m      4\u001b[0m \u001b[0;32massert\u001b[0m\u001b[0;34m(\u001b[0m\u001b[0mone_dim\u001b[0m\u001b[0;34m[\u001b[0m\u001b[0;34m-\u001b[0m\u001b[0;36m2\u001b[0m\u001b[0;34m]\u001b[0m \u001b[0;34m==\u001b[0m \u001b[0;36m5\u001b[0m\u001b[0;34m)\u001b[0m\u001b[0;34m\u001b[0m\u001b[0;34m\u001b[0m\u001b[0m\n",
      "\u001b[0;31mAssertionError\u001b[0m: "
     ]
    }
   ],
   "source": [
    "print(one_dim)\n",
    "# Assessing single element\n",
    "assert(one_dim[0] == 3)\n",
    "assert(one_dim[-2] == 5)"
   ]
  },
  {
   "cell_type": "code",
   "execution_count": null,
   "metadata": {},
   "outputs": [
    {
     "name": "stdout",
     "output_type": "stream",
     "text": [
      "[[4 6]\n",
      " [3 9]\n",
      " [7 8]\n",
      " [5 8]\n",
      " [9 2]]\n"
     ]
    }
   ],
   "source": [
    "print(two_dim)\n",
    "# Assessing single element\n",
    "assert(two_dim[0, 0] == 4)\n",
    "assert(two_dim[2, 1] == 8)\n",
    "assert(two_dim[4, -1] == 2)\n",
    "assert(two_dim[-2, -1] == 8)"
   ]
  },
  {
   "cell_type": "code",
   "execution_count": null,
   "metadata": {},
   "outputs": [
    {
     "name": "stdout",
     "output_type": "stream",
     "text": [
      "[ 0  1  2 10  4]\n"
     ]
    }
   ],
   "source": [
    "# Numpy array has a fixed type.\n",
    "# Inserting a floating point lead to truncation\n",
    "x = np.arange(5)\n",
    "assert(x[3] == 3)\n",
    "x[3] = 10.145\n",
    "assert(x[3] == 10)\n",
    "print(x)\n",
    "assert(x.dtype == np.int64)"
   ]
  },
  {
   "cell_type": "markdown",
   "metadata": {},
   "source": [
    "## Slicing"
   ]
  },
  {
   "cell_type": "code",
   "execution_count": null,
   "metadata": {},
   "outputs": [
    {
     "name": "stdout",
     "output_type": "stream",
     "text": [
      "[3 7 3 5 9]\n",
      "[3 7]\n",
      "[7 3 5 9]\n",
      "[7 3]\n",
      "[3 3 9]\n",
      "[9 5 3 7 3]\n",
      "[5 3 7 3]\n",
      "[5 7]\n",
      "[9 3 3]\n"
     ]
    }
   ],
   "source": [
    "# Single dimension\n",
    "print(one_dim)\n",
    "print(one_dim[:2]) # [3 7]\n",
    "print(one_dim[1:]) # [7 3 5 9]\n",
    "print(one_dim[1:3]) # [7 3]\n",
    "print(one_dim[::2]) # [3 3 9]\n",
    "print(one_dim[::-1]) # [9 5 3 7 3]\n",
    "print(one_dim[3::-1]) # [5 3 7 3]\n",
    "print(one_dim[3::-2]) # [5 7]\n",
    "print(one_dim[::-2]) # [5 7]"
   ]
  },
  {
   "cell_type": "code",
   "execution_count": null,
   "metadata": {},
   "outputs": [
    {
     "name": "stdout",
     "output_type": "stream",
     "text": [
      "[[4 6]\n",
      " [3 9]\n",
      " [7 8]\n",
      " [5 8]\n",
      " [9 2]]\n",
      "[[4]\n",
      " [3]]\n",
      "[[4]\n",
      " [3]\n",
      " [7]\n",
      " [5]\n",
      " [9]]\n",
      "[[2 9]\n",
      " [8 5]\n",
      " [8 7]\n",
      " [9 3]\n",
      " [6 4]]\n",
      "[4 3 7 5 9]\n",
      "[4 6]\n",
      "[4 6]\n"
     ]
    }
   ],
   "source": [
    "# Multi-dimensional\n",
    "print(two_dim)\n",
    "# two rows, one column\n",
    "print(two_dim[:2, :1])\n",
    "# all rows, every other column\n",
    "print(two_dim[:, ::2])\n",
    "# reverse subarray dimensions\n",
    "print(two_dim[::-1, ::-1])\n",
    "# first column\n",
    "print(two_dim[:, 0])\n",
    "# first row\n",
    "print(two_dim[0, :])\n",
    "print(two_dim[0])"
   ]
  },
  {
   "cell_type": "markdown",
   "metadata": {},
   "source": [
    "## Create copies of arrays"
   ]
  },
  {
   "cell_type": "code",
   "execution_count": null,
   "metadata": {},
   "outputs": [
    {
     "name": "stdout",
     "output_type": "stream",
     "text": [
      "[0 1]\n",
      "[99  1  2  3  4  5  6  7  8  9]\n"
     ]
    }
   ],
   "source": [
    "# Array slices return views\n",
    "\n",
    "x2 = np.arange(10)\n",
    "x2_sub = x2[:2] # [0 1]\n",
    "print(x2_sub)\n",
    "\n",
    "x2_sub[0] = 99\n",
    "print(x2) # [99 1 2 ... 9]"
   ]
  },
  {
   "cell_type": "code",
   "execution_count": null,
   "metadata": {},
   "outputs": [
    {
     "name": "stdout",
     "output_type": "stream",
     "text": [
      "[99  1]\n",
      "[99  1  2  3  4  5  6  7  8  9]\n",
      "[-1  1]\n"
     ]
    }
   ],
   "source": [
    "# Creating copies of array\n",
    "\n",
    "x2_copy = x2[:2].copy()\n",
    "print(x2_copy) # [99 1]\n",
    "x2_copy[0] = -1\n",
    "print(x2) # [99 1 2 ... 9]\n",
    "print(x2_copy) # [-1 1]"
   ]
  },
  {
   "cell_type": "code",
   "execution_count": null,
   "metadata": {},
   "outputs": [
    {
     "name": "stdout",
     "output_type": "stream",
     "text": [
      "[[0 1 2]\n",
      " [3 4 5]\n",
      " [6 7 8]]\n",
      "[[0 1 2 3 4 5 6 7 8]]\n",
      "[[0 1 2 3 4 5 6 7 8]]\n",
      "[[0]\n",
      " [1]\n",
      " [2]\n",
      " [3]\n",
      " [4]\n",
      " [5]\n",
      " [6]\n",
      " [7]\n",
      " [8]]\n",
      "[[0]\n",
      " [1]\n",
      " [2]\n",
      " [3]\n",
      " [4]\n",
      " [5]\n",
      " [6]\n",
      " [7]\n",
      " [8]]\n"
     ]
    }
   ],
   "source": [
    "x3 = np.arange(9)\n",
    "# Reshaping to a grid\n",
    "print(x3.reshape([3, 3]))\n",
    "# Reshaping to a row vector (reshape & newaxis)\n",
    "print(x3.reshape([1, 9]))\n",
    "print(x3[np.newaxis, :])\n",
    "# Reshaping to a column vector (reshape & newaxis)\n",
    "print(x3.reshape([9, 1]))\n",
    "print(x3[:, np.newaxis])"
   ]
  },
  {
   "cell_type": "markdown",
   "metadata": {},
   "source": [
    "## Array Concatenation and Splitting"
   ]
  },
  {
   "cell_type": "code",
   "execution_count": null,
   "metadata": {},
   "outputs": [
    {
     "name": "stdout",
     "output_type": "stream",
     "text": [
      "[5 0]\n",
      "[3 3 7]\n",
      "[9]\n",
      "[5 0 3 3 7 9]\n"
     ]
    }
   ],
   "source": [
    "# Concatenate arrays\n",
    "np.random.seed(0)\n",
    "x = np.random.randint(0, 10, size = 2)\n",
    "y = np.random.randint(0, 10, size = 3)\n",
    "z = np.random.randint(0, 10, size = 1)\n",
    "print(x)\n",
    "print(y)\n",
    "print(z)\n",
    "print(np.concatenate([x, y, z]))"
   ]
  },
  {
   "cell_type": "code",
   "execution_count": null,
   "metadata": {},
   "outputs": [
    {
     "name": "stdout",
     "output_type": "stream",
     "text": [
      "[[3 5 2]\n",
      " [4 7 6]]\n",
      "[[8 8 1]\n",
      " [6 7 7]]\n",
      "[[3 5 2]\n",
      " [4 7 6]\n",
      " [8 8 1]\n",
      " [6 7 7]]\n",
      "[[3 5 2]\n",
      " [4 7 6]\n",
      " [8 8 1]\n",
      " [6 7 7]]\n"
     ]
    }
   ],
   "source": [
    "# Concatenate two-dimensional arrays along the first axis (concatenate & vstack)\n",
    "xs = np.random.randint(0, 10, size = 6).reshape((2, 3))\n",
    "print(xs)\n",
    "ys = np.random.randint(0, 10, size = 6).reshape((2, 3))\n",
    "print(ys)\n",
    "print(np.concatenate([xs, ys]))\n",
    "print(np.vstack([xs, ys]))"
   ]
  },
  {
   "cell_type": "code",
   "execution_count": null,
   "metadata": {},
   "outputs": [
    {
     "name": "stdout",
     "output_type": "stream",
     "text": [
      "[[3 5 2 8 8 1]\n",
      " [4 7 6 6 7 7]]\n",
      "[[3 5 2 8 8 1]\n",
      " [4 7 6 6 7 7]]\n"
     ]
    }
   ],
   "source": [
    "# Concatenate two-dimensional arrays long the second axis (concatenate & hstack)\n",
    "print(np.concatenate([xs, ys], axis = 1))\n",
    "print(np.hstack([xs, ys]))"
   ]
  },
  {
   "cell_type": "code",
   "execution_count": null,
   "metadata": {},
   "outputs": [
    {
     "name": "stdout",
     "output_type": "stream",
     "text": [
      "[0 1]\n",
      "[2 3 4]\n",
      "[5 6 7 8 9]\n"
     ]
    }
   ],
   "source": [
    "# Splitting an array\n",
    "x = np.arange(10)\n",
    "x1, x2, x3 = np.split(x, [2, 5])\n",
    "print(x1) # [0 1]\n",
    "print(x2) # [2 3 4]\n",
    "print(x3) # [5 6 7 8 9]"
   ]
  },
  {
   "cell_type": "code",
   "execution_count": null,
   "metadata": {},
   "outputs": [
    {
     "name": "stdout",
     "output_type": "stream",
     "text": [
      "[[ 0  1  2  3  4]\n",
      " [ 5  6  7  8  9]\n",
      " [10 11 12 13 14]]\n",
      "[[0 1 2 3 4]]\n",
      "[[ 5  6  7  8  9]\n",
      " [10 11 12 13 14]]\n"
     ]
    }
   ],
   "source": [
    "# Splitting two-dimensional array vertically (vsplit)\n",
    "xs = np.arange(15).reshape([3, 5])\n",
    "print(xs)\n",
    "\n",
    "xs1, xs2 = np.vsplit(xs, [1])\n",
    "print(xs1) # [[ 0  1  2  3  4]]\n",
    "print(xs2) # [[ 5  6  7  8  9] [10 11 12 13 14]]]"
   ]
  },
  {
   "cell_type": "code",
   "execution_count": null,
   "metadata": {},
   "outputs": [
    {
     "name": "stdout",
     "output_type": "stream",
     "text": [
      "[[ 0]\n",
      " [ 5]\n",
      " [10]]\n",
      "[[ 1  2  3  4]\n",
      " [ 6  7  8  9]\n",
      " [11 12 13 14]]\n"
     ]
    }
   ],
   "source": [
    "# Splitting two-dimensional array horizontally (hsplit)\n",
    "xs1, xs2 = np.hsplit(xs, [1])\n",
    "print(xs1) # [[ 0 ] [ 5 ] [ 10 ]]\n",
    "print(xs2) # [[ 1 2 3 4 ] [ 6 7 8 9 ] [ 11 12 13 14 ]]"
   ]
  }
 ],
 "metadata": {
  "kernelspec": {
   "display_name": "Python 3",
   "language": "python",
   "name": "python3"
  },
  "language_info": {
   "codemirror_mode": {
    "name": "ipython",
    "version": 3
   },
   "file_extension": ".py",
   "mimetype": "text/x-python",
   "name": "python",
   "nbconvert_exporter": "python",
   "pygments_lexer": "ipython3",
   "version": "3.9.13"
  }
 },
 "nbformat": 4,
 "nbformat_minor": 2
}
