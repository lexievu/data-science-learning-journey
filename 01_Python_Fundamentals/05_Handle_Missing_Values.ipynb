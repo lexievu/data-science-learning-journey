{
 "cells": [
  {
   "cell_type": "markdown",
   "metadata": {},
   "source": [
    "# Handle Missing Data"
   ]
  },
  {
   "cell_type": "code",
   "execution_count": 1,
   "metadata": {},
   "outputs": [],
   "source": [
    "import numpy as np\n",
    "import pandas as pd"
   ]
  },
  {
   "cell_type": "code",
   "execution_count": 3,
   "metadata": {},
   "outputs": [
    {
     "name": "stdout",
     "output_type": "stream",
     "text": [
      "0    False\n",
      "1     True\n",
      "2    False\n",
      "3     True\n",
      "dtype: bool\n",
      "0        1\n",
      "2    hello\n",
      "dtype: object\n"
     ]
    }
   ],
   "source": [
    "# Detecting null values\n",
    "\n",
    "data = pd.Series([1, np.nan, 'hello', None])\n",
    "print(data.isnull())\n",
    "print(data[data.notnull()])"
   ]
  },
  {
   "cell_type": "code",
   "execution_count": 11,
   "metadata": {},
   "outputs": [
    {
     "name": "stdout",
     "output_type": "stream",
     "text": [
      "0        1\n",
      "2    hello\n",
      "dtype: object\n",
      "     0    1  2\n",
      "2  1.0  2.0  3\n",
      "   2\n",
      "0  2\n",
      "1  3\n",
      "2  3\n",
      "     0    1  2   3\n",
      "0  1.0  NaN  2 NaN\n",
      "1  NaN  2.0  3 NaN\n",
      "2  1.0  2.0  3 NaN\n",
      "     0    1  2\n",
      "0  1.0  NaN  2\n",
      "1  NaN  2.0  3\n",
      "2  1.0  2.0  3\n",
      "     0    1  2   3\n",
      "2  1.0  2.0  3 NaN\n"
     ]
    }
   ],
   "source": [
    "# Dropping null values\n",
    "\n",
    "# Series\n",
    "print(data.dropna())\n",
    "\n",
    "df = pd.DataFrame([[1, np.nan, 2],\n",
    "                   [np.nan, 2, 3],\n",
    "                   [1, 2, 3]])\n",
    "\n",
    "print(df.dropna())\n",
    "print(df.dropna(axis=1))\n",
    "\n",
    "df[3] = np.nan\n",
    "print(df)\n",
    "\n",
    "print(df.dropna(how='all', axis=1))\n",
    "\n",
    "print(df.dropna(axis='rows', thresh=3))"
   ]
  },
  {
   "cell_type": "code",
   "execution_count": 21,
   "metadata": {},
   "outputs": [
    {
     "name": "stdout",
     "output_type": "stream",
     "text": [
      "a    1.0\n",
      "b    NaN\n",
      "c    2.0\n",
      "d    NaN\n",
      "e    3.0\n",
      "dtype: float64\n",
      "a    1.0\n",
      "b    0.0\n",
      "c    2.0\n",
      "d    0.0\n",
      "e    3.0\n",
      "dtype: float64\n",
      "a    1.0\n",
      "b    1.0\n",
      "c    2.0\n",
      "d    2.0\n",
      "e    3.0\n",
      "dtype: float64\n",
      "     0    1  2   3\n",
      "0  1.0  NaN  2 NaN\n",
      "1  1.0  2.0  3 NaN\n",
      "2  1.0  2.0  3 NaN\n",
      "a    1.0\n",
      "b    2.0\n",
      "c    2.0\n",
      "d    3.0\n",
      "e    3.0\n",
      "dtype: float64\n"
     ]
    }
   ],
   "source": [
    "# Filling null values\n",
    "data = pd.Series([1, np.nan, 2, None, 3], index=list('abcde'))\n",
    "print(data)\n",
    "\n",
    "# Fill with a single value\n",
    "print(data.fillna(0)) # 1 0 2 0 3\n",
    "# Forward-fill\n",
    "print(data.fillna(method='ffill')) # 1 1 2 2 3\n",
    "print(df.fillna(method='ffill', axis='rows'))\n",
    "# Backward-fill\n",
    "print(data.fillna(method='bfill')) # 1 2 2 3 3"
   ]
  },
  {
   "cell_type": "code",
   "execution_count": null,
   "metadata": {},
   "outputs": [],
   "source": []
  }
 ],
 "metadata": {
  "kernelspec": {
   "display_name": "base",
   "language": "python",
   "name": "python3"
  },
  "language_info": {
   "codemirror_mode": {
    "name": "ipython",
    "version": 3
   },
   "file_extension": ".py",
   "mimetype": "text/x-python",
   "name": "python",
   "nbconvert_exporter": "python",
   "pygments_lexer": "ipython3",
   "version": "3.9.13"
  }
 },
 "nbformat": 4,
 "nbformat_minor": 2
}
