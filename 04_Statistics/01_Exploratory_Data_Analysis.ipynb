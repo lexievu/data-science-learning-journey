{
 "cells": [
  {
   "cell_type": "code",
   "execution_count": 1,
   "id": "c0e033a6",
   "metadata": {},
   "outputs": [
    {
     "name": "stdout",
     "output_type": "stream",
     "text": [
      "Downloaded thinkstats.py\n"
     ]
    }
   ],
   "source": [
    "from os.path import basename, exists\n",
    "\n",
    "\n",
    "def download(url):\n",
    "    filename = basename(url)\n",
    "    if not exists(filename):\n",
    "        from urllib.request import urlretrieve\n",
    "\n",
    "        local, _ = urlretrieve(url, filename)\n",
    "        print(\"Downloaded \" + local)\n",
    "\n",
    "\n",
    "download(\"https://github.com/AllenDowney/ThinkStats/raw/v3/nb/thinkstats.py\")"
   ]
  },
  {
   "cell_type": "code",
   "execution_count": 2,
   "id": "f52ecabd",
   "metadata": {},
   "outputs": [
    {
     "name": "stdout",
     "output_type": "stream",
     "text": [
      "Collecting empiricaldist\n",
      "  Downloading empiricaldist-0.9.0.tar.gz (14 kB)\n",
      "  Installing build dependencies ... \u001b[?25ldone\n",
      "\u001b[?25h  Getting requirements to build wheel ... \u001b[?25ldone\n",
      "\u001b[?25h  Preparing metadata (pyproject.toml) ... \u001b[?25ldone\n",
      "\u001b[?25hRequirement already satisfied: pandas in /Users/thienhuongvu/opt/anaconda3/lib/python3.9/site-packages (from empiricaldist) (1.4.4)\n",
      "Requirement already satisfied: numpy in /Users/thienhuongvu/opt/anaconda3/lib/python3.9/site-packages (from empiricaldist) (1.21.5)\n",
      "Requirement already satisfied: scipy in /Users/thienhuongvu/opt/anaconda3/lib/python3.9/site-packages (from empiricaldist) (1.9.1)\n",
      "Requirement already satisfied: matplotlib in /Users/thienhuongvu/opt/anaconda3/lib/python3.9/site-packages (from empiricaldist) (3.5.2)\n",
      "Requirement already satisfied: fonttools>=4.22.0 in /Users/thienhuongvu/opt/anaconda3/lib/python3.9/site-packages (from matplotlib->empiricaldist) (4.25.0)\n",
      "Requirement already satisfied: kiwisolver>=1.0.1 in /Users/thienhuongvu/opt/anaconda3/lib/python3.9/site-packages (from matplotlib->empiricaldist) (1.4.2)\n",
      "Requirement already satisfied: packaging>=20.0 in /Users/thienhuongvu/opt/anaconda3/lib/python3.9/site-packages (from matplotlib->empiricaldist) (21.3)\n",
      "Requirement already satisfied: python-dateutil>=2.7 in /Users/thienhuongvu/opt/anaconda3/lib/python3.9/site-packages (from matplotlib->empiricaldist) (2.8.2)\n",
      "Requirement already satisfied: cycler>=0.10 in /Users/thienhuongvu/opt/anaconda3/lib/python3.9/site-packages (from matplotlib->empiricaldist) (0.11.0)\n",
      "Requirement already satisfied: pyparsing>=2.2.1 in /Users/thienhuongvu/opt/anaconda3/lib/python3.9/site-packages (from matplotlib->empiricaldist) (3.0.9)\n",
      "Requirement already satisfied: pillow>=6.2.0 in /Users/thienhuongvu/opt/anaconda3/lib/python3.9/site-packages (from matplotlib->empiricaldist) (9.2.0)\n",
      "Requirement already satisfied: pytz>=2020.1 in /Users/thienhuongvu/opt/anaconda3/lib/python3.9/site-packages (from pandas->empiricaldist) (2022.1)\n",
      "Requirement already satisfied: six>=1.5 in /Users/thienhuongvu/opt/anaconda3/lib/python3.9/site-packages (from python-dateutil>=2.7->matplotlib->empiricaldist) (1.16.0)\n",
      "Building wheels for collected packages: empiricaldist\n",
      "  Building wheel for empiricaldist (pyproject.toml) ... \u001b[?25ldone\n",
      "\u001b[?25h  Created wheel for empiricaldist: filename=empiricaldist-0.9.0-py3-none-any.whl size=14296 sha256=bde34ac3c76cb6414fd55a8cc9663cae6694889111e5a65b4d2b248a92e4bef7\n",
      "  Stored in directory: /Users/thienhuongvu/Library/Caches/pip/wheels/1a/32/45/308a55ccffc79208a70c80ebbc916d6d8dbd905650fbb354c5\n",
      "Successfully built empiricaldist\n",
      "Installing collected packages: empiricaldist\n",
      "Successfully installed empiricaldist-0.9.0\n",
      "Note: you may need to restart the kernel to use updated packages.\n"
     ]
    }
   ],
   "source": [
    "try:\n",
    "    import empiricaldist\n",
    "except ImportError:\n",
    "    %pip install empiricaldist"
   ]
  },
  {
   "cell_type": "code",
   "execution_count": 3,
   "id": "a523f323",
   "metadata": {},
   "outputs": [],
   "source": [
    "import numpy as np\n",
    "import pandas as pd\n",
    "import matplotlib.pyplot as plt\n",
    "\n",
    "from IPython.display import HTML\n",
    "from thinkstats import decorate\n"
   ]
  },
  {
   "cell_type": "code",
   "execution_count": 4,
   "id": "2d96a2d0",
   "metadata": {},
   "outputs": [
    {
     "name": "stdout",
     "output_type": "stream",
     "text": [
      "Downloaded 2002FemPreg.dct\n",
      "Downloaded 2002FemPreg.dat.gz\n"
     ]
    }
   ],
   "source": [
    "download(\"https://github.com/AllenDowney/ThinkStats/raw/v3/data/2002FemPreg.dct\")\n",
    "download(\"https://github.com/AllenDowney/ThinkStats/raw/v3/data/2002FemPreg.dat.gz\")"
   ]
  },
  {
   "cell_type": "code",
   "execution_count": 5,
   "id": "085da065",
   "metadata": {},
   "outputs": [
    {
     "name": "stdout",
     "output_type": "stream",
     "text": [
      "Collecting statadict\n",
      "  Downloading statadict-1.1.0-py3-none-any.whl (9.4 kB)\n",
      "Installing collected packages: statadict\n",
      "Successfully installed statadict-1.1.0\n",
      "Note: you may need to restart the kernel to use updated packages.\n"
     ]
    }
   ],
   "source": [
    "try:\n",
    "    import statadict\n",
    "except ImportError:\n",
    "    %pip install statadict"
   ]
  },
  {
   "cell_type": "code",
   "execution_count": 6,
   "id": "63a9c553",
   "metadata": {},
   "outputs": [],
   "source": [
    "dct_file = \"2002FemPreg.dct\"\n",
    "dat_file = \"2002FemPreg.dat.gz\""
   ]
  },
  {
   "cell_type": "code",
   "execution_count": 7,
   "id": "3b499118",
   "metadata": {},
   "outputs": [],
   "source": [
    "from statadict import parse_stata_dict\n",
    "\n",
    "\n",
    "def read_stata(dct_file, dat_file):\n",
    "    stata_dict = parse_stata_dict(dct_file)\n",
    "    resp = pd.read_fwf(\n",
    "        dat_file,\n",
    "        names=stata_dict.names,\n",
    "        colspecs=stata_dict.colspecs,\n",
    "        compression=\"gzip\",\n",
    "    )\n",
    "    return resp"
   ]
  },
  {
   "cell_type": "code",
   "execution_count": 8,
   "id": "07c5671f",
   "metadata": {},
   "outputs": [],
   "source": [
    "preg = read_stata(dct_file, dat_file)"
   ]
  },
  {
   "cell_type": "code",
   "execution_count": 9,
   "id": "b360ffd4",
   "metadata": {},
   "outputs": [
    {
     "data": {
      "text/html": [
       "<div>\n",
       "<style scoped>\n",
       "    .dataframe tbody tr th:only-of-type {\n",
       "        vertical-align: middle;\n",
       "    }\n",
       "\n",
       "    .dataframe tbody tr th {\n",
       "        vertical-align: top;\n",
       "    }\n",
       "\n",
       "    .dataframe thead th {\n",
       "        text-align: right;\n",
       "    }\n",
       "</style>\n",
       "<table border=\"1\" class=\"dataframe\">\n",
       "  <thead>\n",
       "    <tr style=\"text-align: right;\">\n",
       "      <th></th>\n",
       "      <th>caseid</th>\n",
       "      <th>pregordr</th>\n",
       "      <th>howpreg_n</th>\n",
       "      <th>howpreg_p</th>\n",
       "      <th>moscurrp</th>\n",
       "      <th>nowprgdk</th>\n",
       "      <th>pregend1</th>\n",
       "      <th>pregend2</th>\n",
       "      <th>nbrnaliv</th>\n",
       "      <th>multbrth</th>\n",
       "      <th>...</th>\n",
       "      <th>poverty_i</th>\n",
       "      <th>laborfor_i</th>\n",
       "      <th>religion_i</th>\n",
       "      <th>metro_i</th>\n",
       "      <th>basewgt</th>\n",
       "      <th>adj_mod_basewgt</th>\n",
       "      <th>finalwgt</th>\n",
       "      <th>secu_p</th>\n",
       "      <th>sest</th>\n",
       "      <th>cmintvw</th>\n",
       "    </tr>\n",
       "  </thead>\n",
       "  <tbody>\n",
       "    <tr>\n",
       "      <th>0</th>\n",
       "      <td>1</td>\n",
       "      <td>1</td>\n",
       "      <td>NaN</td>\n",
       "      <td>NaN</td>\n",
       "      <td>NaN</td>\n",
       "      <td>NaN</td>\n",
       "      <td>6.0</td>\n",
       "      <td>NaN</td>\n",
       "      <td>1.0</td>\n",
       "      <td>NaN</td>\n",
       "      <td>...</td>\n",
       "      <td>0</td>\n",
       "      <td>0</td>\n",
       "      <td>0</td>\n",
       "      <td>0</td>\n",
       "      <td>3410.389399</td>\n",
       "      <td>3869.349602</td>\n",
       "      <td>6448.271112</td>\n",
       "      <td>2</td>\n",
       "      <td>9</td>\n",
       "      <td>1231</td>\n",
       "    </tr>\n",
       "    <tr>\n",
       "      <th>1</th>\n",
       "      <td>1</td>\n",
       "      <td>2</td>\n",
       "      <td>NaN</td>\n",
       "      <td>NaN</td>\n",
       "      <td>NaN</td>\n",
       "      <td>NaN</td>\n",
       "      <td>6.0</td>\n",
       "      <td>NaN</td>\n",
       "      <td>1.0</td>\n",
       "      <td>NaN</td>\n",
       "      <td>...</td>\n",
       "      <td>0</td>\n",
       "      <td>0</td>\n",
       "      <td>0</td>\n",
       "      <td>0</td>\n",
       "      <td>3410.389399</td>\n",
       "      <td>3869.349602</td>\n",
       "      <td>6448.271112</td>\n",
       "      <td>2</td>\n",
       "      <td>9</td>\n",
       "      <td>1231</td>\n",
       "    </tr>\n",
       "    <tr>\n",
       "      <th>2</th>\n",
       "      <td>2</td>\n",
       "      <td>1</td>\n",
       "      <td>NaN</td>\n",
       "      <td>NaN</td>\n",
       "      <td>NaN</td>\n",
       "      <td>NaN</td>\n",
       "      <td>5.0</td>\n",
       "      <td>NaN</td>\n",
       "      <td>3.0</td>\n",
       "      <td>5.0</td>\n",
       "      <td>...</td>\n",
       "      <td>0</td>\n",
       "      <td>0</td>\n",
       "      <td>0</td>\n",
       "      <td>0</td>\n",
       "      <td>7226.301740</td>\n",
       "      <td>8567.549110</td>\n",
       "      <td>12999.542264</td>\n",
       "      <td>2</td>\n",
       "      <td>12</td>\n",
       "      <td>1231</td>\n",
       "    </tr>\n",
       "    <tr>\n",
       "      <th>3</th>\n",
       "      <td>2</td>\n",
       "      <td>2</td>\n",
       "      <td>NaN</td>\n",
       "      <td>NaN</td>\n",
       "      <td>NaN</td>\n",
       "      <td>NaN</td>\n",
       "      <td>6.0</td>\n",
       "      <td>NaN</td>\n",
       "      <td>1.0</td>\n",
       "      <td>NaN</td>\n",
       "      <td>...</td>\n",
       "      <td>0</td>\n",
       "      <td>0</td>\n",
       "      <td>0</td>\n",
       "      <td>0</td>\n",
       "      <td>7226.301740</td>\n",
       "      <td>8567.549110</td>\n",
       "      <td>12999.542264</td>\n",
       "      <td>2</td>\n",
       "      <td>12</td>\n",
       "      <td>1231</td>\n",
       "    </tr>\n",
       "    <tr>\n",
       "      <th>4</th>\n",
       "      <td>2</td>\n",
       "      <td>3</td>\n",
       "      <td>NaN</td>\n",
       "      <td>NaN</td>\n",
       "      <td>NaN</td>\n",
       "      <td>NaN</td>\n",
       "      <td>6.0</td>\n",
       "      <td>NaN</td>\n",
       "      <td>1.0</td>\n",
       "      <td>NaN</td>\n",
       "      <td>...</td>\n",
       "      <td>0</td>\n",
       "      <td>0</td>\n",
       "      <td>0</td>\n",
       "      <td>0</td>\n",
       "      <td>7226.301740</td>\n",
       "      <td>8567.549110</td>\n",
       "      <td>12999.542264</td>\n",
       "      <td>2</td>\n",
       "      <td>12</td>\n",
       "      <td>1231</td>\n",
       "    </tr>\n",
       "  </tbody>\n",
       "</table>\n",
       "<p>5 rows × 243 columns</p>\n",
       "</div>"
      ],
      "text/plain": [
       "   caseid  pregordr  howpreg_n  howpreg_p  moscurrp  nowprgdk  pregend1  \\\n",
       "0       1         1        NaN        NaN       NaN       NaN       6.0   \n",
       "1       1         2        NaN        NaN       NaN       NaN       6.0   \n",
       "2       2         1        NaN        NaN       NaN       NaN       5.0   \n",
       "3       2         2        NaN        NaN       NaN       NaN       6.0   \n",
       "4       2         3        NaN        NaN       NaN       NaN       6.0   \n",
       "\n",
       "   pregend2  nbrnaliv  multbrth  ...  poverty_i  laborfor_i  religion_i  \\\n",
       "0       NaN       1.0       NaN  ...          0           0           0   \n",
       "1       NaN       1.0       NaN  ...          0           0           0   \n",
       "2       NaN       3.0       5.0  ...          0           0           0   \n",
       "3       NaN       1.0       NaN  ...          0           0           0   \n",
       "4       NaN       1.0       NaN  ...          0           0           0   \n",
       "\n",
       "   metro_i      basewgt  adj_mod_basewgt      finalwgt  secu_p  sest  cmintvw  \n",
       "0        0  3410.389399      3869.349602   6448.271112       2     9     1231  \n",
       "1        0  3410.389399      3869.349602   6448.271112       2     9     1231  \n",
       "2        0  7226.301740      8567.549110  12999.542264       2    12     1231  \n",
       "3        0  7226.301740      8567.549110  12999.542264       2    12     1231  \n",
       "4        0  7226.301740      8567.549110  12999.542264       2    12     1231  \n",
       "\n",
       "[5 rows x 243 columns]"
      ]
     },
     "execution_count": 9,
     "metadata": {},
     "output_type": "execute_result"
    }
   ],
   "source": [
    "preg.head()"
   ]
  },
  {
   "cell_type": "markdown",
   "id": "dcd49107",
   "metadata": {},
   "source": [
    "### Exercise 1.1\n",
    "Select the birthord column from preg, print the value counts, and compare to results published in the codebook at https://ftp.cdc.gov/pub/Health_Statistics/NCHS/Dataset_Documentation/NSFG/Cycle6Codebook-Pregnancy.pdf."
   ]
  },
  {
   "cell_type": "code",
   "execution_count": 12,
   "id": "620c6533",
   "metadata": {},
   "outputs": [
    {
     "data": {
      "text/plain": [
       "1.0     4413\n",
       "2.0     2874\n",
       "3.0     1234\n",
       "4.0      421\n",
       "5.0      126\n",
       "6.0       50\n",
       "7.0       20\n",
       "8.0        7\n",
       "9.0        2\n",
       "10.0       1\n",
       "NaN     4445\n",
       "Name: birthord, dtype: int64"
      ]
     },
     "execution_count": 12,
     "metadata": {},
     "output_type": "execute_result"
    }
   ],
   "source": [
    "preg.birthord.value_counts(dropna=False).sort_index()"
   ]
  },
  {
   "cell_type": "markdown",
   "id": "d7927dad",
   "metadata": {},
   "source": [
    "From the codebook https://www.cdc.gov/nchs/nsfg/nsfg_cycle6.htm\n",
    "\n",
    "| Value | Label        | Total |\n",
    "| ----- | ------------ | ----- |\n",
    "| .     | Inapplicable | 4445  |\n",
    "| 01    | 1st Birth    | 4413  |\n",
    "| 02    | 2nd Birth    | 2874  |\n",
    "| 03    | 3rd Birth    | 1234  |\n",
    "| 04    | 4th Birth    | 421   |\n",
    "| 05    | 5th Birth    | 126   |\n",
    "| 06    | 6th Birth    | 50    |\n",
    "| 07    | 7th Birth    | 20    |\n",
    "| 08    | 8th Birth    | 7     |\n",
    "| 09    | 9th Birth    | 2     |\n",
    "| 10    | 10th Birth   | 1     |"
   ]
  },
  {
   "cell_type": "markdown",
   "id": "54327f19",
   "metadata": {},
   "source": [
    "### Exercise 1.2\n",
    "Create a new column named `totalwgt_kg` that contains birth weight in kilograms (there are approximately 2.2 pounds per kilogram). Compute the mean and standard deviation of the new column."
   ]
  },
  {
   "cell_type": "code",
   "execution_count": 13,
   "id": "14dc47c8",
   "metadata": {},
   "outputs": [],
   "source": [
    "preg[\"totalwgt_lb\"] = preg[\"birthwgt_lb\"] + preg[\"birthwgt_oz\"] / 16.0"
   ]
  },
  {
   "cell_type": "code",
   "execution_count": 17,
   "id": "ea79a584",
   "metadata": {},
   "outputs": [],
   "source": [
    "preg[\"totalwgt_kg\"] = preg[\"totalwgt_lb\"] / 2.2"
   ]
  },
  {
   "cell_type": "code",
   "execution_count": 18,
   "id": "ec92a3d4",
   "metadata": {},
   "outputs": [
    {
     "data": {
      "text/plain": [
       "3.327127539842133"
      ]
     },
     "execution_count": 18,
     "metadata": {},
     "output_type": "execute_result"
    }
   ],
   "source": [
    "preg[\"totalwgt_kg\"].mean()"
   ]
  },
  {
   "cell_type": "code",
   "execution_count": 19,
   "id": "1fa8be69",
   "metadata": {},
   "outputs": [
    {
     "data": {
      "text/plain": [
       "0.9527280814371938"
      ]
     },
     "execution_count": 19,
     "metadata": {},
     "output_type": "execute_result"
    }
   ],
   "source": [
    "preg[\"totalwgt_kg\"].std()"
   ]
  },
  {
   "cell_type": "markdown",
   "id": "f11c1d3e",
   "metadata": {},
   "source": [
    "### Exercise 1.3\n",
    "What are the pregnancy lengths for the respondent with `caseid` 2298?\n",
    "\n",
    "What was the birth weight of the first baby born to the respondent with `caseid` 5013? "
   ]
  },
  {
   "cell_type": "code",
   "execution_count": 27,
   "id": "9b25fba8",
   "metadata": {},
   "outputs": [
    {
     "data": {
      "text/html": [
       "<div>\n",
       "<style scoped>\n",
       "    .dataframe tbody tr th:only-of-type {\n",
       "        vertical-align: middle;\n",
       "    }\n",
       "\n",
       "    .dataframe tbody tr th {\n",
       "        vertical-align: top;\n",
       "    }\n",
       "\n",
       "    .dataframe thead th {\n",
       "        text-align: right;\n",
       "    }\n",
       "</style>\n",
       "<table border=\"1\" class=\"dataframe\">\n",
       "  <thead>\n",
       "    <tr style=\"text-align: right;\">\n",
       "      <th></th>\n",
       "      <th>pregordr</th>\n",
       "      <th>prglngth</th>\n",
       "      <th>outcome</th>\n",
       "    </tr>\n",
       "  </thead>\n",
       "  <tbody>\n",
       "    <tr>\n",
       "      <th>2610</th>\n",
       "      <td>1</td>\n",
       "      <td>40</td>\n",
       "      <td>1</td>\n",
       "    </tr>\n",
       "    <tr>\n",
       "      <th>2611</th>\n",
       "      <td>2</td>\n",
       "      <td>36</td>\n",
       "      <td>1</td>\n",
       "    </tr>\n",
       "    <tr>\n",
       "      <th>2612</th>\n",
       "      <td>3</td>\n",
       "      <td>30</td>\n",
       "      <td>1</td>\n",
       "    </tr>\n",
       "    <tr>\n",
       "      <th>2613</th>\n",
       "      <td>4</td>\n",
       "      <td>40</td>\n",
       "      <td>1</td>\n",
       "    </tr>\n",
       "  </tbody>\n",
       "</table>\n",
       "</div>"
      ],
      "text/plain": [
       "      pregordr  prglngth  outcome\n",
       "2610         1        40        1\n",
       "2611         2        36        1\n",
       "2612         3        30        1\n",
       "2613         4        40        1"
      ]
     },
     "execution_count": 27,
     "metadata": {},
     "output_type": "execute_result"
    }
   ],
   "source": [
    "# pregnancy lengths for the respondent with `caseid` 2298\n",
    "preg[preg.caseid == 2298][[\"pregordr\", \"prglngth\", \"outcome\"]]"
   ]
  },
  {
   "cell_type": "code",
   "execution_count": 35,
   "id": "b69fca6c",
   "metadata": {},
   "outputs": [
    {
     "data": {
      "text/html": [
       "<div>\n",
       "<style scoped>\n",
       "    .dataframe tbody tr th:only-of-type {\n",
       "        vertical-align: middle;\n",
       "    }\n",
       "\n",
       "    .dataframe tbody tr th {\n",
       "        vertical-align: top;\n",
       "    }\n",
       "\n",
       "    .dataframe thead th {\n",
       "        text-align: right;\n",
       "    }\n",
       "</style>\n",
       "<table border=\"1\" class=\"dataframe\">\n",
       "  <thead>\n",
       "    <tr style=\"text-align: right;\">\n",
       "      <th></th>\n",
       "      <th>totalwgt_kg</th>\n",
       "      <th>totalwgt_lb</th>\n",
       "      <th>prglngth</th>\n",
       "    </tr>\n",
       "  </thead>\n",
       "  <tbody>\n",
       "    <tr>\n",
       "      <th>5516</th>\n",
       "      <td>3.352273</td>\n",
       "      <td>7.375</td>\n",
       "      <td>29</td>\n",
       "    </tr>\n",
       "  </tbody>\n",
       "</table>\n",
       "</div>"
      ],
      "text/plain": [
       "      totalwgt_kg  totalwgt_lb  prglngth\n",
       "5516     3.352273        7.375        29"
      ]
     },
     "execution_count": 35,
     "metadata": {},
     "output_type": "execute_result"
    }
   ],
   "source": [
    "# the birth weight of the first baby born to the respondent with `caseid` 5013\n",
    "preg.query(\"caseid == 5013 and pregordr == 1\")[[\"totalwgt_kg\", \"totalwgt_lb\", \"prglngth\"]]"
   ]
  },
  {
   "cell_type": "code",
   "execution_count": null,
   "id": "04d1d01a",
   "metadata": {},
   "outputs": [],
   "source": []
  },
  {
   "cell_type": "markdown",
   "id": "99cc807e",
   "metadata": {},
   "source": [
    "# Daily Assessment Questions\n",
    "\n",
    "Q1: Compare and contrast the mean, median, and mode as measures of central tendency. In what specific scenarios (e.g., in a dataset of patient ages, or gene expression levels) would you prefer to use the median over the mean, and why?\n",
    "---\n",
    "The mean is the arithmetic average. The median is the 50th percentile value (half of the data is less than this value, half is greater). The mode is the most frequently occurred value.\n",
    "\n",
    "In a skewed dataset, such as the datasets of patient ages or gene expression levels, median is preferred over the mean, as it is less affected by outliers.\n",
    "\n",
    "---\n",
    "Q2: Explain the concepts of variance and standard deviation. What information do they convey about a dataset, and why is standard deviation often preferred over variance for interpretation?\n",
    "---\n",
    "Both variance and standard deviation are quantitative measures of the spread of the data.\n",
    "\n",
    "The variance is the mean of the squared differences (or deviations) of each data point from the mean of the dataset.\n",
    "\n",
    "The standard deviation is the square root of the variance.\n",
    "\n",
    "Standard deviation is preferred for interpretation because it is expressed in the same units as the original data, which makes it much easier to comprehend and relate to the actual values in the dataset.\n",
    "\n",
    "---\n",
    "Q3: Imagine you have a dataset of immune cell counts that you suspect is positively skewed (has a long tail to the right). How would you visually confirm this skewness using a common plot, and what does this skewness imply about the distribution of cell counts?\n",
    "---\n",
    "The skewness can be confirmed using a histogram or a kernel density plot.\n",
    "\n",
    "There is a small number of cell counts that are very high, comparing to the typical cell count value. This abnormally high cell counts can indicate a disease.\n",
    "\n",
    "---"
   ]
  },
  {
   "cell_type": "markdown",
   "id": "da7e1ad7",
   "metadata": {},
   "source": []
  }
 ],
 "metadata": {
  "kernelspec": {
   "display_name": "base",
   "language": "python",
   "name": "python3"
  },
  "language_info": {
   "codemirror_mode": {
    "name": "ipython",
    "version": 3
   },
   "file_extension": ".py",
   "mimetype": "text/x-python",
   "name": "python",
   "nbconvert_exporter": "python",
   "pygments_lexer": "ipython3",
   "version": "3.9.13"
  }
 },
 "nbformat": 4,
 "nbformat_minor": 5
}
